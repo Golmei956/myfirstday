{
 "cells": [
  {
   "cell_type": "code",
   "execution_count": 1,
   "metadata": {},
   "outputs": [],
   "source": [
    "\n",
    "list1 = [\"Chandigarh\",\"Manipur\",\"Delhi\",\"Gujarat\",\"Haryana\",\"Punjab\",\"Assam\",\"Bihar\"]\n"
   ]
  },
  {
   "cell_type": "code",
   "execution_count": 2,
   "metadata": {},
   "outputs": [
    {
     "name": "stdout",
     "output_type": "stream",
     "text": [
      "['Chandigarh', 'Manipur', 'Delhi', 'Gujarat', 'Haryana', 'Punjab', 'Assam', 'Bihar']\n"
     ]
    }
   ],
   "source": [
    "print(list1)"
   ]
  },
  {
   "cell_type": "code",
   "execution_count": 3,
   "metadata": {},
   "outputs": [],
   "source": [
    "list1.sort()"
   ]
  },
  {
   "cell_type": "code",
   "execution_count": 4,
   "metadata": {},
   "outputs": [
    {
     "name": "stdout",
     "output_type": "stream",
     "text": [
      "Assam\n",
      "Bihar\n",
      "Chandigarh\n",
      "Delhi\n",
      "Gujarat\n",
      "Haryana\n",
      "Manipur\n",
      "Punjab\n"
     ]
    }
   ],
   "source": [
    "for num in list1:\n",
    "     print(num)"
   ]
  },
  {
   "cell_type": "code",
   "execution_count": 35,
   "metadata": {},
   "outputs": [],
   "source": [
    "list2 = [('Assam',1264),('bihar',4288),('punjab',1012,'delhi',4230,'kolkata',2358,'goa',568)]"
   ]
  },
  {
   "cell_type": "code",
   "execution_count": 36,
   "metadata": {},
   "outputs": [
    {
     "name": "stdout",
     "output_type": "stream",
     "text": [
      "punjab\n",
      "1012\n",
      "delhi\n",
      "4230\n",
      "kolkata\n",
      "2358\n",
      "goa\n",
      "568\n"
     ]
    }
   ],
   "source": [
    "for t in tup:\n",
    "    print(t)"
   ]
  },
  {
   "cell_type": "code",
   "execution_count": 37,
   "metadata": {},
   "outputs": [
    {
     "name": "stdout",
     "output_type": "stream",
     "text": [
      "('Assam', 1264)\n",
      "('bihar', 4288)\n",
      "('punjab', 1012, 'delhi', 4230, 'kolkata', 2358, 'goa', 568)\n"
     ]
    }
   ],
   "source": [
    "for tup in list2:\n",
    "    print(tup)"
   ]
  },
  {
   "cell_type": "code",
   "execution_count": 5,
   "metadata": {},
   "outputs": [],
   "source": [
    "Infected_list_in_statewise={'Chandigarh':446,'Manipur':1260,'Delhi':89802,'Gujarat':33232,'Haryana':14941,'Punjab':5668,'Assam':8582,'Bihar':10249}"
   ]
  },
  {
   "cell_type": "code",
   "execution_count": 10,
   "metadata": {},
   "outputs": [
    {
     "name": "stdout",
     "output_type": "stream",
     "text": [
      "Chandigarh\n",
      "Manipur\n",
      "Delhi\n",
      "Gujarat\n",
      "Haryana\n",
      "Punjab\n",
      "Assam\n",
      "Bihar\n"
     ]
    }
   ],
   "source": [
    "for state in Infected_list_in_statewise:\n",
    "    print(state)"
   ]
  },
  {
   "cell_type": "code",
   "execution_count": 11,
   "metadata": {},
   "outputs": [
    {
     "data": {
      "text/plain": [
       "dict_items([('Chandigarh', 446), ('Manipur', 1260), ('Delhi', 89802), ('Gujarat', 33232), ('Haryana', 14941), ('Punjab', 5668), ('Assam', 8582), ('Bihar', 10249)])"
      ]
     },
     "execution_count": 11,
     "metadata": {},
     "output_type": "execute_result"
    }
   ],
   "source": [
    "Infected_list_in_statewise.items()"
   ]
  },
  {
   "cell_type": "code",
   "execution_count": 12,
   "metadata": {},
   "outputs": [
    {
     "name": "stdout",
     "output_type": "stream",
     "text": [
      "Chandigarh 446\n",
      "Manipur 1260\n",
      "Delhi 89802\n",
      "Gujarat 33232\n",
      "Haryana 14941\n",
      "Punjab 5668\n",
      "Assam 8582\n",
      "Bihar 10249\n"
     ]
    }
   ],
   "source": [
    "for k,v in Infected_list_in_statewise.items():\n",
    "    print(k,v)"
   ]
  },
  {
   "cell_type": "code",
   "execution_count": 14,
   "metadata": {},
   "outputs": [
    {
     "data": {
      "text/plain": [
       "['Chandigarh',\n",
       " 'Manipur',\n",
       " 'Delhi',\n",
       " 'Gujarat',\n",
       " 'Haryana',\n",
       " 'Punjab',\n",
       " 'Assam',\n",
       " 'Bihar']"
      ]
     },
     "execution_count": 14,
     "metadata": {},
     "output_type": "execute_result"
    }
   ],
   "source": [
    "list(Infected_list_in_statewise.keys())"
   ]
  },
  {
   "cell_type": "code",
   "execution_count": 15,
   "metadata": {},
   "outputs": [
    {
     "data": {
      "text/plain": [
       "[446, 1260, 5668, 8582, 10249, 14941, 33232, 89802]"
      ]
     },
     "execution_count": 15,
     "metadata": {},
     "output_type": "execute_result"
    }
   ],
   "source": [
    "sorted(Infected_list_in_statewise.values())"
   ]
  },
  {
   "cell_type": "code",
   "execution_count": 16,
   "metadata": {},
   "outputs": [
    {
     "data": {
      "text/plain": [
       "['Assam',\n",
       " 'Bihar',\n",
       " 'Chandigarh',\n",
       " 'Delhi',\n",
       " 'Gujarat',\n",
       " 'Haryana',\n",
       " 'Manipur',\n",
       " 'Punjab']"
      ]
     },
     "execution_count": 16,
     "metadata": {},
     "output_type": "execute_result"
    }
   ],
   "source": [
    "sorted(Infected_list_in_statewise.keys())"
   ]
  },
  {
   "cell_type": "code",
   "execution_count": 32,
   "metadata": {},
   "outputs": [
    {
     "name": "stdout",
     "output_type": "stream",
     "text": [
      "Assam\n",
      "bihar\n",
      "punjab\n",
      "delhi\n",
      "kolkata\n",
      "goa\n"
     ]
    }
   ],
   "source": [
    "tup = ('Assam','bihar','punjab','delhi','kolkata','goa')\n",
    "\n",
    "for t in tup:\n",
    "    print(t)"
   ]
  },
  {
   "cell_type": "code",
   "execution_count": 33,
   "metadata": {},
   "outputs": [],
   "source": [
    "list3 = [('Assam',1264),('bihar',4288),('punjab',1012,'delhi',4230,'kolkata',2358,'goa',568)]"
   ]
  },
  {
   "cell_type": "code",
   "execution_count": 34,
   "metadata": {},
   "outputs": [
    {
     "name": "stdout",
     "output_type": "stream",
     "text": [
      "('Assam', 1264)\n",
      "('bihar', 4288)\n",
      "('punjab', 1012, 'delhi', 4230, 'kolkata', 2358, 'goa', 568)\n"
     ]
    }
   ],
   "source": [
    "for tup in list3:\n",
    "    print(tup)"
   ]
  },
  {
   "cell_type": "code",
   "execution_count": 38,
   "metadata": {},
   "outputs": [],
   "source": [
    "District=\"Mumbai\"\n",
    "Infected_total_till_date=136596\n",
    "Recovered_till_date=67890\n",
    "Death_till_death=5732"
   ]
  },
  {
   "cell_type": "code",
   "execution_count": 41,
   "metadata": {},
   "outputs": [],
   "source": [
    "IFR=(Death_till_death)/(Infected_total_till_date)*100"
   ]
  },
  {
   "cell_type": "code",
   "execution_count": 42,
   "metadata": {},
   "outputs": [
    {
     "name": "stdout",
     "output_type": "stream",
     "text": [
      "District: Mumbai\n",
      "Infected total till date= 136596\n",
      "Recovered_till_date 67890\n",
      "Death_till_death 5732\n",
      "Infection Faltality Rate = 4.196316143957364\n"
     ]
    }
   ],
   "source": [
    "print(\"District:\",District)\n",
    "print(\"Infected total till date=\",Infected_total_till_date)\n",
    "print(\"Recovered_till_date\",Recovered_till_date)\n",
    "print(\"Death_till_death\",Death_till_death)\n",
    "\n",
    "print(\"Infection Faltality Rate =\",IFR)"
   ]
  },
  {
   "cell_type": "code",
   "execution_count": null,
   "metadata": {},
   "outputs": [],
   "source": []
  }
 ],
 "metadata": {
  "kernelspec": {
   "display_name": "Python 3",
   "language": "python",
   "name": "python3"
  },
  "language_info": {
   "codemirror_mode": {
    "name": "ipython",
    "version": 3
   },
   "file_extension": ".py",
   "mimetype": "text/x-python",
   "name": "python",
   "nbconvert_exporter": "python",
   "pygments_lexer": "ipython3",
   "version": "3.7.6"
  }
 },
 "nbformat": 4,
 "nbformat_minor": 4
}
