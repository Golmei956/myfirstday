{
 "cells": [
  {
   "cell_type": "code",
   "execution_count": 2,
   "metadata": {},
   "outputs": [],
   "source": [
    "import itertools\n",
    "import numpy as np\n",
    "import matplotlib.pyplot as plt\n",
    "from matplotlib.ticker import NullFormatter\n",
    "import pandas as pd\n",
    "import numpy as np\n",
    "import matplotlib.ticker as ticker\n",
    "from sklearn import preprocessing\n",
    "%matplotlib inline"
   ]
  },
  {
   "cell_type": "code",
   "execution_count": 4,
   "metadata": {},
   "outputs": [
    {
     "data": {
      "text/html": [
       "<div>\n",
       "<style scoped>\n",
       "    .dataframe tbody tr th:only-of-type {\n",
       "        vertical-align: middle;\n",
       "    }\n",
       "\n",
       "    .dataframe tbody tr th {\n",
       "        vertical-align: top;\n",
       "    }\n",
       "\n",
       "    .dataframe thead th {\n",
       "        text-align: right;\n",
       "    }\n",
       "</style>\n",
       "<table border=\"1\" class=\"dataframe\">\n",
       "  <thead>\n",
       "    <tr style=\"text-align: right;\">\n",
       "      <th></th>\n",
       "      <th>Date</th>\n",
       "      <th>Time</th>\n",
       "      <th>State/UnionTerritory</th>\n",
       "      <th>ConfirmedIndianNational</th>\n",
       "      <th>Gender</th>\n",
       "      <th>ConfirmedForeignNational</th>\n",
       "      <th>Age</th>\n",
       "      <th>Serious symptoms</th>\n",
       "      <th>Less common symptoms</th>\n",
       "      <th>Most common symptoms</th>\n",
       "      <th>Severity</th>\n",
       "      <th>Patient_Status</th>\n",
       "    </tr>\n",
       "  </thead>\n",
       "  <tbody>\n",
       "    <tr>\n",
       "      <th>0</th>\n",
       "      <td>30/01/20</td>\n",
       "      <td>6:00 PM</td>\n",
       "      <td>Kerala</td>\n",
       "      <td>1</td>\n",
       "      <td>Male</td>\n",
       "      <td>0</td>\n",
       "      <td>73</td>\n",
       "      <td>chest pain or pressure</td>\n",
       "      <td>headache</td>\n",
       "      <td>tiredness</td>\n",
       "      <td>Moderate</td>\n",
       "      <td>Covid</td>\n",
       "    </tr>\n",
       "    <tr>\n",
       "      <th>1</th>\n",
       "      <td>31/01/20</td>\n",
       "      <td>6:00 PM</td>\n",
       "      <td>Kerala</td>\n",
       "      <td>1</td>\n",
       "      <td>Female</td>\n",
       "      <td>0</td>\n",
       "      <td>15</td>\n",
       "      <td>loss of speech or movement</td>\n",
       "      <td>conjunctivitis</td>\n",
       "      <td>fever</td>\n",
       "      <td>Moderate</td>\n",
       "      <td>Covid</td>\n",
       "    </tr>\n",
       "    <tr>\n",
       "      <th>2</th>\n",
       "      <td>1/2/2020</td>\n",
       "      <td>6:00 PM</td>\n",
       "      <td>Kerala</td>\n",
       "      <td>2</td>\n",
       "      <td>Female</td>\n",
       "      <td>0</td>\n",
       "      <td>35</td>\n",
       "      <td>chest pain or pressure</td>\n",
       "      <td>aches and pains</td>\n",
       "      <td>fever</td>\n",
       "      <td>Moderate</td>\n",
       "      <td>Covid</td>\n",
       "    </tr>\n",
       "    <tr>\n",
       "      <th>3</th>\n",
       "      <td>2/2/2020</td>\n",
       "      <td>6:00 PM</td>\n",
       "      <td>Kerala</td>\n",
       "      <td>3</td>\n",
       "      <td>Female</td>\n",
       "      <td>0</td>\n",
       "      <td>28</td>\n",
       "      <td>difficulty breathing or shortness of breath</td>\n",
       "      <td>loss of taste or smell</td>\n",
       "      <td>dry cough</td>\n",
       "      <td>Mild</td>\n",
       "      <td>Covid</td>\n",
       "    </tr>\n",
       "    <tr>\n",
       "      <th>4</th>\n",
       "      <td>3/2/2020</td>\n",
       "      <td>6:00 PM</td>\n",
       "      <td>Kerala</td>\n",
       "      <td>3</td>\n",
       "      <td>Female</td>\n",
       "      <td>0</td>\n",
       "      <td>15</td>\n",
       "      <td>difficulty breathing or shortness of breath</td>\n",
       "      <td>aches and pains</td>\n",
       "      <td>fever</td>\n",
       "      <td>Mild</td>\n",
       "      <td>Covid</td>\n",
       "    </tr>\n",
       "  </tbody>\n",
       "</table>\n",
       "</div>"
      ],
      "text/plain": [
       "       Date     Time State/UnionTerritory ConfirmedIndianNational Gender   \\\n",
       "0  30/01/20  6:00 PM               Kerala                       1   Male    \n",
       "1  31/01/20  6:00 PM               Kerala                       1  Female   \n",
       "2  1/2/2020  6:00 PM               Kerala                       2  Female   \n",
       "3  2/2/2020  6:00 PM               Kerala                       3  Female   \n",
       "4  3/2/2020  6:00 PM               Kerala                       3  Female   \n",
       "\n",
       "  ConfirmedForeignNational  Age                              Serious symptoms  \\\n",
       "0                        0    73                       chest pain or pressure   \n",
       "1                        0    15                   loss of speech or movement   \n",
       "2                        0    35                       chest pain or pressure   \n",
       "3                        0    28  difficulty breathing or shortness of breath   \n",
       "4                        0    15  difficulty breathing or shortness of breath   \n",
       "\n",
       "     Less common symptoms Most common symptoms  Severity Patient_Status   \n",
       "0                headache            tiredness  Moderate           Covid  \n",
       "1          conjunctivitis                fever  Moderate           Covid  \n",
       "2         aches and pains                fever  Moderate           Covid  \n",
       "3  loss of taste or smell            dry cough      Mild           Covid  \n",
       "4         aches and pains                fever      Mild           Covid  "
      ]
     },
     "execution_count": 4,
     "metadata": {},
     "output_type": "execute_result"
    }
   ],
   "source": [
    "df = pd.read_csv('C:/Users/a/Desktop/PAML_COVID_Dataset.csv')\n",
    "df.head()"
   ]
  },
  {
   "cell_type": "code",
   "execution_count": 5,
   "metadata": {},
   "outputs": [
    {
     "name": "stdout",
     "output_type": "stream",
     "text": [
      "<class 'pandas.core.frame.DataFrame'>\n",
      "RangeIndex: 3135 entries, 0 to 3134\n",
      "Data columns (total 12 columns):\n",
      " #   Column                    Non-Null Count  Dtype \n",
      "---  ------                    --------------  ----- \n",
      " 0   Date                      3135 non-null   object\n",
      " 1   Time                      3135 non-null   object\n",
      " 2   State/UnionTerritory      3135 non-null   object\n",
      " 3   ConfirmedIndianNational   3135 non-null   object\n",
      " 4   Gender                    3135 non-null   object\n",
      " 5   ConfirmedForeignNational  3135 non-null   object\n",
      " 6   Age                       3135 non-null   int64 \n",
      " 7   Serious symptoms          3135 non-null   object\n",
      " 8   Less common symptoms      3135 non-null   object\n",
      " 9   Most common symptoms      3135 non-null   object\n",
      " 10  Severity                  3135 non-null   object\n",
      " 11  Patient_Status            3135 non-null   object\n",
      "dtypes: int64(1), object(11)\n",
      "memory usage: 294.0+ KB\n"
     ]
    }
   ],
   "source": [
    "df.info()"
   ]
  },
  {
   "cell_type": "code",
   "execution_count": 6,
   "metadata": {},
   "outputs": [
    {
     "data": {
      "text/plain": [
       "Covid    1580\n",
       "flu      1555\n",
       "Name: Patient_Status , dtype: int64"
      ]
     },
     "execution_count": 6,
     "metadata": {},
     "output_type": "execute_result"
    }
   ],
   "source": [
    "df['Patient_Status '].value_counts()"
   ]
  },
  {
   "cell_type": "code",
   "execution_count": 7,
   "metadata": {},
   "outputs": [],
   "source": [
    "from sklearn.preprocessing import LabelEncoder\n",
    "label_encoder = LabelEncoder()\n",
    "df['Patient_Status '] = label_encoder.fit_transform(df['Patient_Status '])\n",
    "df['Gender ']= label_encoder.fit_transform(df['Gender '])\n",
    "df['Serious symptoms']= label_encoder.fit_transform(df['Serious symptoms'])\n",
    "df['Less common symptoms']= label_encoder.fit_transform(df['Less common symptoms'])\n",
    "df['Most common symptoms']= label_encoder.fit_transform(df['Most common symptoms'])\n",
    "df['Severity']= label_encoder.fit_transform(df['Severity'])\n"
   ]
  },
  {
   "cell_type": "code",
   "execution_count": 8,
   "metadata": {},
   "outputs": [
    {
     "data": {
      "text/plain": [
       "Index(['Date', 'Time', 'State/UnionTerritory', 'ConfirmedIndianNational',\n",
       "       'Gender ', 'ConfirmedForeignNational', 'Age ', 'Serious symptoms',\n",
       "       'Less common symptoms', 'Most common symptoms', 'Severity',\n",
       "       'Patient_Status '],\n",
       "      dtype='object')"
      ]
     },
     "execution_count": 8,
     "metadata": {},
     "output_type": "execute_result"
    }
   ],
   "source": [
    "df.columns"
   ]
  },
  {
   "cell_type": "code",
   "execution_count": 9,
   "metadata": {},
   "outputs": [
    {
     "data": {
      "text/plain": [
       "array([[ 1, 73,  0,  4,  2,  1],\n",
       "       [ 0, 15,  2,  2,  1,  1],\n",
       "       [ 0, 35,  0,  1,  1,  1],\n",
       "       [ 0, 28,  1,  5,  0,  0],\n",
       "       [ 0, 15,  1,  1,  1,  0]], dtype=int64)"
      ]
     },
     "execution_count": 9,
     "metadata": {},
     "output_type": "execute_result"
    }
   ],
   "source": [
    "X = df[['Gender ','Age ','Serious symptoms','Less common symptoms','Most common symptoms','Severity']].values  #.astype(float)\n",
    "X[0:5]"
   ]
  },
  {
   "cell_type": "code",
   "execution_count": 10,
   "metadata": {},
   "outputs": [
    {
     "data": {
      "text/plain": [
       "array([0, 0, 0, 0, 0])"
      ]
     },
     "execution_count": 10,
     "metadata": {},
     "output_type": "execute_result"
    }
   ],
   "source": [
    "y = df['Patient_Status '].values\n",
    "y[0:5]"
   ]
  },
  {
   "cell_type": "code",
   "execution_count": 11,
   "metadata": {},
   "outputs": [
    {
     "data": {
      "text/plain": [
       "array([[ 1.02487058,  0.74652258, -1.20803325,  0.49359234,  1.2016007 ,\n",
       "        -0.00313437],\n",
       "       [-0.97573295, -1.35062851,  1.24480628, -0.51318189, -0.00539007,\n",
       "        -0.00313437],\n",
       "       [-0.97573295, -0.62747296, -1.20803325, -1.01656901, -0.00539007,\n",
       "        -0.00313437],\n",
       "       [-0.97573295, -0.8805774 ,  0.01838652,  0.99697946, -1.21238084,\n",
       "        -1.2314165 ],\n",
       "       [-0.97573295, -1.35062851,  0.01838652, -1.01656901, -0.00539007,\n",
       "        -1.2314165 ]])"
      ]
     },
     "execution_count": 11,
     "metadata": {},
     "output_type": "execute_result"
    }
   ],
   "source": [
    "X = preprocessing.StandardScaler().fit(X).transform(X.astype(object))\n",
    "X[0:5]"
   ]
  },
  {
   "cell_type": "code",
   "execution_count": 12,
   "metadata": {},
   "outputs": [
    {
     "name": "stdout",
     "output_type": "stream",
     "text": [
      "Train set: (2508, 6) (2508,)\n",
      "Test set: (627, 6) (627,)\n"
     ]
    }
   ],
   "source": [
    "from sklearn.model_selection import train_test_split\n",
    "X_train, X_test, y_train, y_test = train_test_split( X, y, test_size=0.2, random_state=4)\n",
    "print ('Train set:', X_train.shape,  y_train.shape)\n",
    "print ('Test set:', X_test.shape,  y_test.shape)"
   ]
  },
  {
   "cell_type": "code",
   "execution_count": 13,
   "metadata": {},
   "outputs": [],
   "source": [
    "from sklearn.neighbors import KNeighborsClassifier"
   ]
  },
  {
   "cell_type": "code",
   "execution_count": 14,
   "metadata": {},
   "outputs": [
    {
     "data": {
      "text/plain": [
       "KNeighborsClassifier(algorithm='auto', leaf_size=30, metric='minkowski',\n",
       "                     metric_params=None, n_jobs=None, n_neighbors=4, p=2,\n",
       "                     weights='uniform')"
      ]
     },
     "execution_count": 14,
     "metadata": {},
     "output_type": "execute_result"
    }
   ],
   "source": [
    "k = 4\n",
    "#Train Model and Predict  \n",
    "neigh = KNeighborsClassifier(n_neighbors = k).fit(X_train,y_train)\n",
    "neigh"
   ]
  },
  {
   "cell_type": "code",
   "execution_count": 15,
   "metadata": {},
   "outputs": [
    {
     "data": {
      "text/plain": [
       "array([1, 1, 1, 0, 1])"
      ]
     },
     "execution_count": 15,
     "metadata": {},
     "output_type": "execute_result"
    }
   ],
   "source": [
    "yhat = neigh.predict(X_test)\n",
    "yhat[0:5]"
   ]
  },
  {
   "cell_type": "code",
   "execution_count": 16,
   "metadata": {},
   "outputs": [
    {
     "name": "stdout",
     "output_type": "stream",
     "text": [
      "Train set Accuracy:  0.6822169059011164\n",
      "Test set Accuracy:  0.48963317384370014\n"
     ]
    }
   ],
   "source": [
    "from sklearn import metrics\n",
    "print(\"Train set Accuracy: \", metrics.accuracy_score(y_train, neigh.predict(X_train)))\n",
    "print(\"Test set Accuracy: \", metrics.accuracy_score(y_test, yhat))"
   ]
  },
  {
   "cell_type": "code",
   "execution_count": 17,
   "metadata": {},
   "outputs": [
    {
     "data": {
      "text/plain": [
       "array([0.49122807, 0.49282297, 0.49760766, 0.48963317, 0.49282297,\n",
       "       0.49122807, 0.51196172, 0.49122807, 0.49441786])"
      ]
     },
     "execution_count": 17,
     "metadata": {},
     "output_type": "execute_result"
    }
   ],
   "source": [
    "Ks = 10\n",
    "mean_acc = np.zeros((Ks-1))\n",
    "std_acc = np.zeros((Ks-1))\n",
    "ConfustionMx = [];\n",
    "for n in range(1,Ks):\n",
    "    \n",
    "    #Train Model and Predict  \n",
    "    neigh = KNeighborsClassifier(n_neighbors = n).fit(X_train,y_train)\n",
    "    yhat=neigh.predict(X_test)\n",
    "    mean_acc[n-1] = metrics.accuracy_score(y_test, yhat)\n",
    "\n",
    "    \n",
    "    std_acc[n-1]=np.std(yhat==y_test)/np.sqrt(yhat.shape[0])\n",
    "\n",
    "mean_acc"
   ]
  },
  {
   "cell_type": "code",
   "execution_count": 18,
   "metadata": {},
   "outputs": [
    {
     "data": {
      "image/png": "[encoded data removed]",
      "text/plain": [
       "<Figure size 432x288 with 1 Axes>"
      ]
     },
     "metadata": {
      "needs_background": "light"
     },
     "output_type": "display_data"
    }
   ],
   "source": [
    "plt.plot(range(1,Ks),mean_acc,'g')\n",
    "plt.fill_between(range(1,Ks),mean_acc - 1 * std_acc,mean_acc + 1 * std_acc, alpha=0.10)\n",
    "plt.legend(('Accuracy ', '+/- 3xstd'))\n",
    "plt.ylabel('Accuracy ')\n",
    "plt.xlabel('Number of Nabors (K)')\n",
    "plt.tight_layout()\n",
    "plt.show()"
   ]
  },
  {
   "cell_type": "code",
   "execution_count": null,
   "metadata": {
    "collapsed": true
   },
   "outputs": [],
   "source": []
  }
 ],
 "metadata": {
  "kernelspec": {
   "display_name": "Python 3",
   "language": "python",
   "name": "python3"
  }
 },
 "nbformat": 4,
 "nbformat_minor": 2
}
