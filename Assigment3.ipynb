{
 "cells": [
  {
   "cell_type": "code",
   "execution_count": 2,
   "metadata": {},
   "outputs": [],
   "source": [
    "from tkinter import *\n",
    "import numpy as np\n",
    "import pandas as pd"
   ]
  },
  {
   "cell_type": "code",
   "execution_count": 3,
   "metadata": {},
   "outputs": [
    {
     "name": "stdout",
     "output_type": "stream",
     "text": [
      "Enter State : Bihar\n",
      "Confirmed \t:  10471\n",
      "Cured \t\t:  8020\n",
      "Deaths \t\t:  77\n",
      "Active \t\t:  2374\n",
      "IMR \t\t:  0.7353643396046222\n",
      "CMR \t\t:  7.353643396046222\n"
     ]
    }
   ],
   "source": [
    "data=pd.read_csv('C:/Users/a/Desktop/covid_19_india.csv')\n",
    "state=input('Enter State : ')\n",
    "count=data['Sno'].count()-1\n",
    "for i in range(count,0,-1):\n",
    "    if data['State/UnionTerritory'][i]==state:\n",
    "        print('Confirmed \\t: ', data['Confirmed'][i])\n",
    "        print('Cured \\t\\t: ', data['Cured'][i])\n",
    "        print('Deaths \\t\\t: ', data['Deaths'][i])\n",
    "        active= data['Confirmed'][i]- data['Cured'][i]- data['Deaths'][i]\n",
    "        imr= (data['Deaths'][i]/data['Confirmed'][i])*100\n",
    "        print('Active \\t\\t: ', active)\n",
    "        print('IMR \\t\\t: ', imr)\n",
    "        print('CMR \\t\\t: ', imr*10)\n",
    "        break"
   ]
  },
  {
   "cell_type": "code",
   "execution_count": null,
   "metadata": {},
   "outputs": [],
   "source": []
  }
 ],
 "metadata": {
  "kernelspec": {
   "display_name": "Python 3",
   "language": "python",
   "name": "python3"
  },
  "language_info": {
   "codemirror_mode": {
    "name": "ipython",
    "version": 3
   },
   "file_extension": ".py",
   "mimetype": "text/x-python",
   "name": "python",
   "nbconvert_exporter": "python",
   "pygments_lexer": "ipython3",
   "version": "3.7.6"
  }
 },
 "nbformat": 4,
 "nbformat_minor": 4
}
