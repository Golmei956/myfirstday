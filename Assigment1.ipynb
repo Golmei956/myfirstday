{
 "cells": [
  {
   "cell_type": "code",
   "execution_count": null,
   "metadata": {},
   "outputs": [],
   "source": [
    "district=\"Gwalior\"\n",
    "infected_total_till_date=1234\n",
    "infected_on_10_6_2020=12\n",
    "infected_on_11_6_2020=2\n",
    "infected_on_12_6_2020=13"
   ]
  },
  {
   "cell_type": "code",
   "execution_count": null,
   "metadata": {},
   "outputs": [],
   "source": [
    "percentage_change=((infected_on_12_6_2020-infected_on_10_6_2020)/infected_on_12_6_2020)*100"
   ]
  },
  {
   "cell_type": "code",
   "execution_count": null,
   "metadata": {},
   "outputs": [],
   "source": [
    "print(\"district:\",district)\n",
    "print(\"infected till date=\",infected_total_till_date)\n",
    "print(\"infected on date 10 june 2020\",infected_on_10_6_2020)\n",
    "print(\"infected on date 11 june 2020\",infected_on_11_6_2020)\n",
    "print(\"infected on date 12 june 2020\",infected_on_12_6_2020)\n",
    "print(\"percentage change in infected given last three days =\",percentage_change)"
   ]
  },
  {
   "cell_type": "code",
   "execution_count": null,
   "metadata": {},
   "outputs": [],
   "source": []
  },
  {
   "cell_type": "code",
   "execution_count": null,
   "metadata": {},
   "outputs": [],
   "source": []
  }
 ],
 "metadata": {
  "kernelspec": {
   "display_name": "Python 3",
   "language": "python",
   "name": "python3"
  },
  "language_info": {
   "codemirror_mode": {
    "name": "ipython",
    "version": 3
   },
   "file_extension": ".py",
   "mimetype": "text/x-python",
   "name": "python",
   "nbconvert_exporter": "python",
   "pygments_lexer": "ipython3",
   "version": "3.7.6"
  }
 },
 "nbformat": 4,
 "nbformat_minor": 4
}
